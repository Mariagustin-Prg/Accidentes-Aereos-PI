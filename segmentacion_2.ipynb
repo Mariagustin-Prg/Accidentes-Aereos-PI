{
 "cells": [
  {
   "cell_type": "markdown",
   "metadata": {},
   "source": [
    "<h1 align=center>Segmentación</h1>"
   ]
  },
  {
   "cell_type": "code",
   "execution_count": 1,
   "metadata": {},
   "outputs": [],
   "source": [
    "import pandas as pd\n",
    "import numpy as np\n",
    "import warnings\n",
    "warnings.filterwarnings('ignore')\n",
    "import pymysql\n",
    "from sqlalchemy import create_engine"
   ]
  },
  {
   "cell_type": "markdown",
   "metadata": {},
   "source": [
    "Primero, hay que abrir nuestro archivo con los datos."
   ]
  },
  {
   "cell_type": "code",
   "execution_count": 2,
   "metadata": {},
   "outputs": [],
   "source": [
    "df = pd.read_csv(\"AccidentesAviones.csv\")"
   ]
  },
  {
   "cell_type": "markdown",
   "metadata": {},
   "source": [
    "¿Como solucionamos la problemática de los <h style=\"color: #FFAA66\">\"?\"</h> que vimos en el notebook de introduccion? Reemplazandolos por valores nulos."
   ]
  },
  {
   "cell_type": "code",
   "execution_count": 3,
   "metadata": {},
   "outputs": [],
   "source": [
    "df.replace(\"?\", None, inplace=True)"
   ]
  },
  {
   "cell_type": "markdown",
   "metadata": {},
   "source": [
    "Ahora comienza nuestra configuración para conectar con la base de datos:"
   ]
  },
  {
   "cell_type": "code",
   "execution_count": 4,
   "metadata": {},
   "outputs": [],
   "source": [
    "# Declarar la información de la configuración de MySQL en el ordenador.\n",
    "usuario = \"root\"\n",
    "host = \"127.0.0.1\"\n",
    "contraseña = \"usuario\"\n",
    "db= \"accidentes_aviones\"\n",
    "\n",
    "# Establecer la conexión:\n",
    "connection = pymysql.connect(host=host, password=contraseña, user=usuario, database=db)"
   ]
  },
  {
   "cell_type": "code",
   "execution_count": 5,
   "metadata": {},
   "outputs": [],
   "source": [
    "cursor = connection.cursor()"
   ]
  },
  {
   "cell_type": "markdown",
   "metadata": {},
   "source": [
    "Ahora que estamos conectados a la base da datos, hagamos la segmentación del dataframe e insertemos las tablas en MySQL."
   ]
  },
  {
   "cell_type": "markdown",
   "metadata": {},
   "source": [
    "Comencemos con la tabla principal <em>info_vuelos</em>."
   ]
  },
  {
   "cell_type": "code",
   "execution_count": 6,
   "metadata": {},
   "outputs": [],
   "source": [
    "info_vuelos = df[['Fecha',\n",
    " 'Hora Declarada',\n",
    " 'Ruta',\n",
    " 'Operador',\n",
    " 'Número de Vuelo',\n",
    " 'Ruta de Vuelo',\n",
    "#  'Tipo de Aeronave',\n",
    "#  'Registro',\n",
    "#  'CN LN',\n",
    "#  'Total a Bordo',\n",
    "#  'Pasajeros a Bordo',\n",
    "#  'Tripulación a Bordo',\n",
    "#  'Cantidad de Fallecidos',\n",
    "#  'Fallecidos Pasajeros',\n",
    "#  'Fallecidos Tripulación',\n",
    "#  'En Tierra',\n",
    " 'Resumen']].reset_index(names=\"indexVuelo\")"
   ]
  },
  {
   "cell_type": "markdown",
   "metadata": {},
   "source": [
    "Veamos como está quedando nuestra primera tabla:"
   ]
  },
  {
   "cell_type": "code",
   "execution_count": 7,
   "metadata": {},
   "outputs": [
    {
     "data": {
      "text/html": [
       "<div>\n",
       "<style scoped>\n",
       "    .dataframe tbody tr th:only-of-type {\n",
       "        vertical-align: middle;\n",
       "    }\n",
       "\n",
       "    .dataframe tbody tr th {\n",
       "        vertical-align: top;\n",
       "    }\n",
       "\n",
       "    .dataframe thead th {\n",
       "        text-align: right;\n",
       "    }\n",
       "</style>\n",
       "<table border=\"1\" class=\"dataframe\">\n",
       "  <thead>\n",
       "    <tr style=\"text-align: right;\">\n",
       "      <th></th>\n",
       "      <th>indexVuelo</th>\n",
       "      <th>Fecha</th>\n",
       "      <th>Hora Declarada</th>\n",
       "      <th>Ruta</th>\n",
       "      <th>Operador</th>\n",
       "      <th>Número de Vuelo</th>\n",
       "      <th>Ruta de Vuelo</th>\n",
       "      <th>Resumen</th>\n",
       "    </tr>\n",
       "  </thead>\n",
       "  <tbody>\n",
       "    <tr>\n",
       "      <th>0</th>\n",
       "      <td>0</td>\n",
       "      <td>September 17, 1908</td>\n",
       "      <td>1718</td>\n",
       "      <td>Fort Myer, Virginia</td>\n",
       "      <td>Military - U.S. Army</td>\n",
       "      <td>None</td>\n",
       "      <td>Demonstration</td>\n",
       "      <td>During a demonstration flight, a U.S. Army fly...</td>\n",
       "    </tr>\n",
       "    <tr>\n",
       "      <th>1</th>\n",
       "      <td>1</td>\n",
       "      <td>September 07, 1909</td>\n",
       "      <td>None</td>\n",
       "      <td>Juvisy-sur-Orge, France</td>\n",
       "      <td>None</td>\n",
       "      <td>None</td>\n",
       "      <td>Air show</td>\n",
       "      <td>Eugene Lefebvre was the first pilot to ever be...</td>\n",
       "    </tr>\n",
       "    <tr>\n",
       "      <th>2</th>\n",
       "      <td>2</td>\n",
       "      <td>July 12, 1912</td>\n",
       "      <td>0630</td>\n",
       "      <td>Atlantic City, New Jersey</td>\n",
       "      <td>Military - U.S. Navy</td>\n",
       "      <td>None</td>\n",
       "      <td>Test flight</td>\n",
       "      <td>First U.S. dirigible Akron exploded just offsh...</td>\n",
       "    </tr>\n",
       "    <tr>\n",
       "      <th>3</th>\n",
       "      <td>3</td>\n",
       "      <td>August 06, 1913</td>\n",
       "      <td>None</td>\n",
       "      <td>Victoria, British Columbia, Canada</td>\n",
       "      <td>Private</td>\n",
       "      <td>None</td>\n",
       "      <td>None</td>\n",
       "      <td>The first fatal airplane accident in Canada oc...</td>\n",
       "    </tr>\n",
       "    <tr>\n",
       "      <th>4</th>\n",
       "      <td>4</td>\n",
       "      <td>September 09, 1913</td>\n",
       "      <td>1830</td>\n",
       "      <td>Over the North Sea</td>\n",
       "      <td>Military - German Navy</td>\n",
       "      <td>None</td>\n",
       "      <td>None</td>\n",
       "      <td>The airship flew into a thunderstorm and encou...</td>\n",
       "    </tr>\n",
       "  </tbody>\n",
       "</table>\n",
       "</div>"
      ],
      "text/plain": [
       "   indexVuelo               Fecha Hora Declarada  \\\n",
       "0           0  September 17, 1908           1718   \n",
       "1           1  September 07, 1909           None   \n",
       "2           2       July 12, 1912           0630   \n",
       "3           3     August 06, 1913           None   \n",
       "4           4  September 09, 1913           1830   \n",
       "\n",
       "                                 Ruta                Operador Número de Vuelo  \\\n",
       "0                 Fort Myer, Virginia    Military - U.S. Army            None   \n",
       "1             Juvisy-sur-Orge, France                    None            None   \n",
       "2           Atlantic City, New Jersey    Military - U.S. Navy            None   \n",
       "3  Victoria, British Columbia, Canada                 Private            None   \n",
       "4                  Over the North Sea  Military - German Navy            None   \n",
       "\n",
       "   Ruta de Vuelo                                            Resumen  \n",
       "0  Demonstration  During a demonstration flight, a U.S. Army fly...  \n",
       "1       Air show  Eugene Lefebvre was the first pilot to ever be...  \n",
       "2    Test flight  First U.S. dirigible Akron exploded just offsh...  \n",
       "3           None  The first fatal airplane accident in Canada oc...  \n",
       "4           None  The airship flew into a thunderstorm and encou...  "
      ]
     },
     "execution_count": 7,
     "metadata": {},
     "output_type": "execute_result"
    }
   ],
   "source": [
    "info_vuelos.head()"
   ]
  },
  {
   "cell_type": "markdown",
   "metadata": {},
   "source": [
    "Como podemos observar, las fechas están escritas, debemos transformarlas a formato fechas de la siguiente manera:"
   ]
  },
  {
   "cell_type": "code",
   "execution_count": 8,
   "metadata": {},
   "outputs": [],
   "source": [
    "from datetime import datetime\n",
    "fechas_datetime = []\n",
    "for fecha in info_vuelos['Fecha']:\n",
    "    if fecha == None:\n",
    "        fechas_datetime.append(None)\n",
    "        continue\n",
    "    else:\n",
    "        try:\n",
    "            fechas_datetime.append(datetime.strptime(fecha, \"%B %d, %Y\"))\n",
    "        except ValueError:\n",
    "            print(fecha)"
   ]
  },
  {
   "cell_type": "markdown",
   "metadata": {},
   "source": [
    "Ahora lo incluimos a la tabla de info_vuelos."
   ]
  },
  {
   "cell_type": "code",
   "execution_count": 9,
   "metadata": {},
   "outputs": [],
   "source": [
    "info_vuelos['fecha_procesada'] = fechas_datetime"
   ]
  },
  {
   "cell_type": "code",
   "execution_count": 10,
   "metadata": {},
   "outputs": [
    {
     "data": {
      "text/html": [
       "<div>\n",
       "<style scoped>\n",
       "    .dataframe tbody tr th:only-of-type {\n",
       "        vertical-align: middle;\n",
       "    }\n",
       "\n",
       "    .dataframe tbody tr th {\n",
       "        vertical-align: top;\n",
       "    }\n",
       "\n",
       "    .dataframe thead th {\n",
       "        text-align: right;\n",
       "    }\n",
       "</style>\n",
       "<table border=\"1\" class=\"dataframe\">\n",
       "  <thead>\n",
       "    <tr style=\"text-align: right;\">\n",
       "      <th></th>\n",
       "      <th>indexVuelo</th>\n",
       "      <th>Fecha</th>\n",
       "      <th>Hora Declarada</th>\n",
       "      <th>Ruta</th>\n",
       "      <th>Operador</th>\n",
       "      <th>Número de Vuelo</th>\n",
       "      <th>Ruta de Vuelo</th>\n",
       "      <th>Resumen</th>\n",
       "      <th>fecha_procesada</th>\n",
       "    </tr>\n",
       "  </thead>\n",
       "  <tbody>\n",
       "    <tr>\n",
       "      <th>0</th>\n",
       "      <td>0</td>\n",
       "      <td>September 17, 1908</td>\n",
       "      <td>1718</td>\n",
       "      <td>Fort Myer, Virginia</td>\n",
       "      <td>Military - U.S. Army</td>\n",
       "      <td>None</td>\n",
       "      <td>Demonstration</td>\n",
       "      <td>During a demonstration flight, a U.S. Army fly...</td>\n",
       "      <td>1908-09-17</td>\n",
       "    </tr>\n",
       "    <tr>\n",
       "      <th>1</th>\n",
       "      <td>1</td>\n",
       "      <td>September 07, 1909</td>\n",
       "      <td>None</td>\n",
       "      <td>Juvisy-sur-Orge, France</td>\n",
       "      <td>None</td>\n",
       "      <td>None</td>\n",
       "      <td>Air show</td>\n",
       "      <td>Eugene Lefebvre was the first pilot to ever be...</td>\n",
       "      <td>1909-09-07</td>\n",
       "    </tr>\n",
       "  </tbody>\n",
       "</table>\n",
       "</div>"
      ],
      "text/plain": [
       "   indexVuelo               Fecha Hora Declarada                     Ruta  \\\n",
       "0           0  September 17, 1908           1718      Fort Myer, Virginia   \n",
       "1           1  September 07, 1909           None  Juvisy-sur-Orge, France   \n",
       "\n",
       "               Operador Número de Vuelo  Ruta de Vuelo  \\\n",
       "0  Military - U.S. Army            None  Demonstration   \n",
       "1                  None            None       Air show   \n",
       "\n",
       "                                             Resumen fecha_procesada  \n",
       "0  During a demonstration flight, a U.S. Army fly...      1908-09-17  \n",
       "1  Eugene Lefebvre was the first pilot to ever be...      1909-09-07  "
      ]
     },
     "execution_count": 10,
     "metadata": {},
     "output_type": "execute_result"
    }
   ],
   "source": [
    "info_vuelos.head(2)"
   ]
  },
  {
   "cell_type": "markdown",
   "metadata": {},
   "source": [
    "Pongamos nombres que no contengan espacio para exportar a la base de datos SQL:"
   ]
  },
  {
   "cell_type": "code",
   "execution_count": 11,
   "metadata": {},
   "outputs": [],
   "source": [
    "info_vuelos.columns = ['indexVuelo', 'fecha', 'hora_declarada', 'ruta', 'operador',\n",
    "       'numero_de_vuelo', 'ruta_de_vuelo', 'resumen', 'fecha_procesada']"
   ]
  },
  {
   "cell_type": "markdown",
   "metadata": {},
   "source": [
    "Hay que crear la tabla antes de exportarla:"
   ]
  },
  {
   "cell_type": "code",
   "execution_count": 14,
   "metadata": {},
   "outputs": [
    {
     "data": {
      "text/plain": [
       "0"
      ]
     },
     "execution_count": 14,
     "metadata": {},
     "output_type": "execute_result"
    }
   ],
   "source": [
    "query = \"CREATE TABLE IF NOT EXISTS info_Vuelos (indexVuelo INT NOT NULL, fecha VARCHAR(40), hora_declarada VARCHAR(6), ruta VARCHAR(50), operador VARCHAR(50), numero_de_vuelo VARCHAR(20), ruta_de_vuelo VARCHAR(50), resumen VARCHAR(120), fecha_procesada TIME)\"\n",
    "\n",
    "cursor.execute(query)"
   ]
  },
  {
   "cell_type": "markdown",
   "metadata": {},
   "source": [
    "Ahora podemos exportar la tabla que estuvimos modificando en este notebook."
   ]
  },
  {
   "cell_type": "code",
   "execution_count": 15,
   "metadata": {},
   "outputs": [],
   "source": [
    "engine = create_engine(f'mysql+pymysql://{usuario}:{contraseña}@{host}/{db}')"
   ]
  },
  {
   "cell_type": "code",
   "execution_count": 17,
   "metadata": {},
   "outputs": [
    {
     "data": {
      "text/plain": [
       "5008"
      ]
     },
     "execution_count": 17,
     "metadata": {},
     "output_type": "execute_result"
    }
   ],
   "source": [
    "info_vuelos.to_sql('info_vuelos', con=engine, if_exists='replace', index=False)"
   ]
  },
  {
   "cell_type": "markdown",
   "metadata": {},
   "source": [
    "Continuemos con la siguiente tabla que exportaremos '<em>info_aeronave</em>'."
   ]
  },
  {
   "cell_type": "code",
   "execution_count": 22,
   "metadata": {},
   "outputs": [],
   "source": [
    "info_nave = df[[#'Fecha',\n",
    "#  'Hora Declarada',\n",
    "#  'Ruta',\n",
    "#  'Operador',\n",
    " 'Número de Vuelo',\n",
    "#  'Ruta de Vuelo',\n",
    " 'Tipo de Aeronave',\n",
    " 'Registro',\n",
    " 'CN LN']].reset_index(names= 'indexVuelo')\n",
    "#  'Total a Bordo',\n",
    "#  'Pasajeros a Bordo',\n",
    "#  'Tripulación a Bordo',\n",
    "#  'Cantidad de Fallecidos',\n",
    "#  'Fallecidos Pasajeros',\n",
    "#  'Fallecidos Tripulación',\n",
    "#  'En Tierra',\n",
    "#  'Resumen']]"
   ]
  },
  {
   "cell_type": "code",
   "execution_count": 23,
   "metadata": {},
   "outputs": [
    {
     "data": {
      "text/html": [
       "<div>\n",
       "<style scoped>\n",
       "    .dataframe tbody tr th:only-of-type {\n",
       "        vertical-align: middle;\n",
       "    }\n",
       "\n",
       "    .dataframe tbody tr th {\n",
       "        vertical-align: top;\n",
       "    }\n",
       "\n",
       "    .dataframe thead th {\n",
       "        text-align: right;\n",
       "    }\n",
       "</style>\n",
       "<table border=\"1\" class=\"dataframe\">\n",
       "  <thead>\n",
       "    <tr style=\"text-align: right;\">\n",
       "      <th></th>\n",
       "      <th>indexVuelo</th>\n",
       "      <th>Número de Vuelo</th>\n",
       "      <th>Tipo de Aeronave</th>\n",
       "      <th>Registro</th>\n",
       "      <th>CN LN</th>\n",
       "    </tr>\n",
       "  </thead>\n",
       "  <tbody>\n",
       "    <tr>\n",
       "      <th>0</th>\n",
       "      <td>0</td>\n",
       "      <td>None</td>\n",
       "      <td>Wright Flyer III</td>\n",
       "      <td>None</td>\n",
       "      <td>1</td>\n",
       "    </tr>\n",
       "    <tr>\n",
       "      <th>1</th>\n",
       "      <td>1</td>\n",
       "      <td>None</td>\n",
       "      <td>Wright Byplane</td>\n",
       "      <td>SC1</td>\n",
       "      <td>None</td>\n",
       "    </tr>\n",
       "  </tbody>\n",
       "</table>\n",
       "</div>"
      ],
      "text/plain": [
       "   indexVuelo Número de Vuelo  Tipo de Aeronave Registro CN LN\n",
       "0           0            None  Wright Flyer III     None     1\n",
       "1           1            None    Wright Byplane      SC1  None"
      ]
     },
     "execution_count": 23,
     "metadata": {},
     "output_type": "execute_result"
    }
   ],
   "source": [
    "info_nave.head(2)"
   ]
  },
  {
   "cell_type": "markdown",
   "metadata": {},
   "source": [
    "Reemplacemos los nombres de las columnas:"
   ]
  },
  {
   "cell_type": "code",
   "execution_count": 25,
   "metadata": {},
   "outputs": [],
   "source": [
    "info_nave.columns = ['indexVuelo', 'numero_de_vuelo', 'tipoAeronave', 'registroAeronave', 'CN_LN']"
   ]
  },
  {
   "cell_type": "markdown",
   "metadata": {},
   "source": [
    "Exportemos la tabla a SQL:"
   ]
  },
  {
   "cell_type": "code",
   "execution_count": 26,
   "metadata": {},
   "outputs": [
    {
     "data": {
      "text/plain": [
       "5008"
      ]
     },
     "execution_count": 26,
     "metadata": {},
     "output_type": "execute_result"
    }
   ],
   "source": [
    "info_nave.to_sql(\"info_aeronave\", con=engine, if_exists='replace', index=False)"
   ]
  },
  {
   "cell_type": "markdown",
   "metadata": {},
   "source": [
    "Y por último trabajaremos la tabla de la tripulacion: '<em>info_tripulacion</em>'."
   ]
  },
  {
   "cell_type": "code",
   "execution_count": 28,
   "metadata": {},
   "outputs": [],
   "source": [
    "info_tripulacion = df[\n",
    "    [\n",
    "        # 'Fecha',\n",
    "        # 'Hora Declarada',\n",
    "        # 'Ruta',\n",
    "        # 'Operador',\n",
    "        'Número de Vuelo',\n",
    "        # 'Ruta de Vuelo',\n",
    "        # 'Tipo de Aeronave',\n",
    "        # 'Registro',\n",
    "        # 'CN LN',\n",
    "        'Total a Bordo',\n",
    "        'Pasajeros a Bordo',\n",
    "        'Tripulación a Bordo',\n",
    "        'Cantidad de Fallecidos',\n",
    "        'Fallecidos Pasajeros',\n",
    "        'Fallecidos Tripulación',\n",
    "        'En Tierra',\n",
    "        # 'Resumen'\n",
    "    ]\n",
    "].reset_index(names='indexVuelo')"
   ]
  },
  {
   "cell_type": "code",
   "execution_count": 29,
   "metadata": {},
   "outputs": [
    {
     "data": {
      "text/html": [
       "<div>\n",
       "<style scoped>\n",
       "    .dataframe tbody tr th:only-of-type {\n",
       "        vertical-align: middle;\n",
       "    }\n",
       "\n",
       "    .dataframe tbody tr th {\n",
       "        vertical-align: top;\n",
       "    }\n",
       "\n",
       "    .dataframe thead th {\n",
       "        text-align: right;\n",
       "    }\n",
       "</style>\n",
       "<table border=\"1\" class=\"dataframe\">\n",
       "  <thead>\n",
       "    <tr style=\"text-align: right;\">\n",
       "      <th></th>\n",
       "      <th>indexVuelo</th>\n",
       "      <th>Número de Vuelo</th>\n",
       "      <th>Total a Bordo</th>\n",
       "      <th>Pasajeros a Bordo</th>\n",
       "      <th>Tripulación a Bordo</th>\n",
       "      <th>Cantidad de Fallecidos</th>\n",
       "      <th>Fallecidos Pasajeros</th>\n",
       "      <th>Fallecidos Tripulación</th>\n",
       "      <th>En Tierra</th>\n",
       "    </tr>\n",
       "  </thead>\n",
       "  <tbody>\n",
       "    <tr>\n",
       "      <th>0</th>\n",
       "      <td>0</td>\n",
       "      <td>None</td>\n",
       "      <td>2</td>\n",
       "      <td>1</td>\n",
       "      <td>1</td>\n",
       "      <td>1</td>\n",
       "      <td>1</td>\n",
       "      <td>0</td>\n",
       "      <td>0</td>\n",
       "    </tr>\n",
       "    <tr>\n",
       "      <th>1</th>\n",
       "      <td>1</td>\n",
       "      <td>None</td>\n",
       "      <td>1</td>\n",
       "      <td>0</td>\n",
       "      <td>1</td>\n",
       "      <td>1</td>\n",
       "      <td>0</td>\n",
       "      <td>0</td>\n",
       "      <td>0</td>\n",
       "    </tr>\n",
       "  </tbody>\n",
       "</table>\n",
       "</div>"
      ],
      "text/plain": [
       "   indexVuelo Número de Vuelo Total a Bordo Pasajeros a Bordo  \\\n",
       "0           0            None             2                 1   \n",
       "1           1            None             1                 0   \n",
       "\n",
       "  Tripulación a Bordo Cantidad de Fallecidos Fallecidos Pasajeros  \\\n",
       "0                   1                      1                    1   \n",
       "1                   1                      1                    0   \n",
       "\n",
       "  Fallecidos Tripulación En Tierra  \n",
       "0                      0         0  \n",
       "1                      0         0  "
      ]
     },
     "execution_count": 29,
     "metadata": {},
     "output_type": "execute_result"
    }
   ],
   "source": [
    "info_tripulacion.head(2)"
   ]
  },
  {
   "cell_type": "markdown",
   "metadata": {},
   "source": [
    "Renombramos las columnas:"
   ]
  },
  {
   "cell_type": "code",
   "execution_count": 31,
   "metadata": {},
   "outputs": [],
   "source": [
    "info_tripulacion.columns = ['indexVuelo',\n",
    " 'numero_de_vuelo',\n",
    " 'total_a_bordo',\n",
    " 'cantidadPasajeros',\n",
    " 'cantidadTripulacion',\n",
    " 'totalFallecidos',\n",
    " 'pasajerosFallecidos',\n",
    " 'tripulacionFallecidos',\n",
    " 'fallecidos_en_tierra']"
   ]
  },
  {
   "cell_type": "markdown",
   "metadata": {},
   "source": [
    "Ahora la incrustamos en la base de datos SQL:"
   ]
  },
  {
   "cell_type": "code",
   "execution_count": 32,
   "metadata": {},
   "outputs": [
    {
     "data": {
      "text/plain": [
       "5008"
      ]
     },
     "execution_count": 32,
     "metadata": {},
     "output_type": "execute_result"
    }
   ],
   "source": [
    "info_tripulacion.to_sql(\"info_tripulacion\", con=engine, if_exists='replace', index=False)"
   ]
  },
  {
   "cell_type": "markdown",
   "metadata": {},
   "source": [
    "<hr>\n",
    "Ahora, desde nuestro motor de consultas SQL, exportamos la base de datos que creamos en formato <em>.sql</em> y trabajaremos con el en el dashboard interactivo de Power BI.\n",
    "<hr>"
   ]
  }
 ],
 "metadata": {
  "kernelspec": {
   "display_name": "venv",
   "language": "python",
   "name": "python3"
  },
  "language_info": {
   "codemirror_mode": {
    "name": "ipython",
    "version": 3
   },
   "file_extension": ".py",
   "mimetype": "text/x-python",
   "name": "python",
   "nbconvert_exporter": "python",
   "pygments_lexer": "ipython3",
   "version": "3.11.4"
  },
  "orig_nbformat": 4
 },
 "nbformat": 4,
 "nbformat_minor": 2
}
