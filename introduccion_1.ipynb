{
 "cells": [
  {
   "cell_type": "markdown",
   "metadata": {},
   "source": [
    "<h1>Introducción</h1>"
   ]
  },
  {
   "cell_type": "code",
   "execution_count": null,
   "metadata": {},
   "outputs": [],
   "source": [
    "import pandas as pd\n",
    "import numpy as np\n",
    "import warnings\n",
    "warnings.filterwarnings('ignore')\n",
    "import matplotlib.pyplot as plt\n",
    "import seaborn as sns\n",
    "sns.set(style='darkgrid')"
   ]
  },
  {
   "cell_type": "code",
   "execution_count": 5,
   "metadata": {},
   "outputs": [],
   "source": [
    "df = pd.read_csv(\"AccidentesAviones.csv\", index_col=\"index\")"
   ]
  },
  {
   "cell_type": "code",
   "execution_count": 6,
   "metadata": {},
   "outputs": [
    {
     "data": {
      "text/html": [
       "<div>\n",
       "<style scoped>\n",
       "    .dataframe tbody tr th:only-of-type {\n",
       "        vertical-align: middle;\n",
       "    }\n",
       "\n",
       "    .dataframe tbody tr th {\n",
       "        vertical-align: top;\n",
       "    }\n",
       "\n",
       "    .dataframe thead th {\n",
       "        text-align: right;\n",
       "    }\n",
       "</style>\n",
       "<table border=\"1\" class=\"dataframe\">\n",
       "  <thead>\n",
       "    <tr style=\"text-align: right;\">\n",
       "      <th></th>\n",
       "      <th>fecha</th>\n",
       "      <th>HORA declarada</th>\n",
       "      <th>Ruta</th>\n",
       "      <th>OperadOR</th>\n",
       "      <th>flight_no</th>\n",
       "      <th>route</th>\n",
       "      <th>ac_type</th>\n",
       "      <th>registration</th>\n",
       "      <th>cn_ln</th>\n",
       "      <th>all_aboard</th>\n",
       "      <th>PASAJEROS A BORDO</th>\n",
       "      <th>crew_aboard</th>\n",
       "      <th>cantidad de fallecidos</th>\n",
       "      <th>passenger_fatalities</th>\n",
       "      <th>crew_fatalities</th>\n",
       "      <th>ground</th>\n",
       "      <th>summary</th>\n",
       "    </tr>\n",
       "    <tr>\n",
       "      <th>index</th>\n",
       "      <th></th>\n",
       "      <th></th>\n",
       "      <th></th>\n",
       "      <th></th>\n",
       "      <th></th>\n",
       "      <th></th>\n",
       "      <th></th>\n",
       "      <th></th>\n",
       "      <th></th>\n",
       "      <th></th>\n",
       "      <th></th>\n",
       "      <th></th>\n",
       "      <th></th>\n",
       "      <th></th>\n",
       "      <th></th>\n",
       "      <th></th>\n",
       "      <th></th>\n",
       "    </tr>\n",
       "  </thead>\n",
       "  <tbody>\n",
       "    <tr>\n",
       "      <th>0</th>\n",
       "      <td>September 17, 1908</td>\n",
       "      <td>1718</td>\n",
       "      <td>Fort Myer, Virginia</td>\n",
       "      <td>Military - U.S. Army</td>\n",
       "      <td>?</td>\n",
       "      <td>Demonstration</td>\n",
       "      <td>Wright Flyer III</td>\n",
       "      <td>?</td>\n",
       "      <td>1</td>\n",
       "      <td>2</td>\n",
       "      <td>1</td>\n",
       "      <td>1</td>\n",
       "      <td>1</td>\n",
       "      <td>1</td>\n",
       "      <td>0</td>\n",
       "      <td>0</td>\n",
       "      <td>During a demonstration flight, a U.S. Army fly...</td>\n",
       "    </tr>\n",
       "    <tr>\n",
       "      <th>1</th>\n",
       "      <td>September 07, 1909</td>\n",
       "      <td>?</td>\n",
       "      <td>Juvisy-sur-Orge, France</td>\n",
       "      <td>?</td>\n",
       "      <td>?</td>\n",
       "      <td>Air show</td>\n",
       "      <td>Wright Byplane</td>\n",
       "      <td>SC1</td>\n",
       "      <td>?</td>\n",
       "      <td>1</td>\n",
       "      <td>0</td>\n",
       "      <td>1</td>\n",
       "      <td>1</td>\n",
       "      <td>0</td>\n",
       "      <td>0</td>\n",
       "      <td>0</td>\n",
       "      <td>Eugene Lefebvre was the first pilot to ever be...</td>\n",
       "    </tr>\n",
       "    <tr>\n",
       "      <th>2</th>\n",
       "      <td>July 12, 1912</td>\n",
       "      <td>0630</td>\n",
       "      <td>Atlantic City, New Jersey</td>\n",
       "      <td>Military - U.S. Navy</td>\n",
       "      <td>?</td>\n",
       "      <td>Test flight</td>\n",
       "      <td>Dirigible</td>\n",
       "      <td>?</td>\n",
       "      <td>?</td>\n",
       "      <td>5</td>\n",
       "      <td>0</td>\n",
       "      <td>5</td>\n",
       "      <td>5</td>\n",
       "      <td>0</td>\n",
       "      <td>5</td>\n",
       "      <td>0</td>\n",
       "      <td>First U.S. dirigible Akron exploded just offsh...</td>\n",
       "    </tr>\n",
       "    <tr>\n",
       "      <th>3</th>\n",
       "      <td>August 06, 1913</td>\n",
       "      <td>?</td>\n",
       "      <td>Victoria, British Columbia, Canada</td>\n",
       "      <td>Private</td>\n",
       "      <td>?</td>\n",
       "      <td>?</td>\n",
       "      <td>Curtiss seaplane</td>\n",
       "      <td>?</td>\n",
       "      <td>?</td>\n",
       "      <td>1</td>\n",
       "      <td>0</td>\n",
       "      <td>1</td>\n",
       "      <td>1</td>\n",
       "      <td>0</td>\n",
       "      <td>1</td>\n",
       "      <td>0</td>\n",
       "      <td>The first fatal airplane accident in Canada oc...</td>\n",
       "    </tr>\n",
       "    <tr>\n",
       "      <th>4</th>\n",
       "      <td>September 09, 1913</td>\n",
       "      <td>1830</td>\n",
       "      <td>Over the North Sea</td>\n",
       "      <td>Military - German Navy</td>\n",
       "      <td>?</td>\n",
       "      <td>?</td>\n",
       "      <td>Zeppelin L-1 (airship)</td>\n",
       "      <td>?</td>\n",
       "      <td>?</td>\n",
       "      <td>20</td>\n",
       "      <td>?</td>\n",
       "      <td>?</td>\n",
       "      <td>14</td>\n",
       "      <td>?</td>\n",
       "      <td>?</td>\n",
       "      <td>0</td>\n",
       "      <td>The airship flew into a thunderstorm and encou...</td>\n",
       "    </tr>\n",
       "  </tbody>\n",
       "</table>\n",
       "</div>"
      ],
      "text/plain": [
       "                    fecha HORA declarada                                Ruta  \\\n",
       "index                                                                          \n",
       "0      September 17, 1908           1718                 Fort Myer, Virginia   \n",
       "1      September 07, 1909              ?             Juvisy-sur-Orge, France   \n",
       "2           July 12, 1912           0630           Atlantic City, New Jersey   \n",
       "3         August 06, 1913              ?  Victoria, British Columbia, Canada   \n",
       "4      September 09, 1913           1830                  Over the North Sea   \n",
       "\n",
       "                     OperadOR flight_no          route  \\\n",
       "index                                                    \n",
       "0        Military - U.S. Army         ?  Demonstration   \n",
       "1                           ?         ?       Air show   \n",
       "2        Military - U.S. Navy         ?    Test flight   \n",
       "3                     Private         ?              ?   \n",
       "4      Military - German Navy         ?              ?   \n",
       "\n",
       "                      ac_type registration cn_ln all_aboard PASAJEROS A BORDO  \\\n",
       "index                                                                           \n",
       "0            Wright Flyer III            ?     1          2                 1   \n",
       "1              Wright Byplane          SC1     ?          1                 0   \n",
       "2                   Dirigible            ?     ?          5                 0   \n",
       "3            Curtiss seaplane            ?     ?          1                 0   \n",
       "4      Zeppelin L-1 (airship)            ?     ?         20                 ?   \n",
       "\n",
       "      crew_aboard cantidad de fallecidos passenger_fatalities crew_fatalities  \\\n",
       "index                                                                           \n",
       "0               1                      1                    1               0   \n",
       "1               1                      1                    0               0   \n",
       "2               5                      5                    0               5   \n",
       "3               1                      1                    0               1   \n",
       "4               ?                     14                    ?               ?   \n",
       "\n",
       "      ground                                            summary  \n",
       "index                                                            \n",
       "0          0  During a demonstration flight, a U.S. Army fly...  \n",
       "1          0  Eugene Lefebvre was the first pilot to ever be...  \n",
       "2          0  First U.S. dirigible Akron exploded just offsh...  \n",
       "3          0  The first fatal airplane accident in Canada oc...  \n",
       "4          0  The airship flew into a thunderstorm and encou...  "
      ]
     },
     "execution_count": 6,
     "metadata": {},
     "output_type": "execute_result"
    }
   ],
   "source": [
    "df.head()"
   ]
  },
  {
   "cell_type": "markdown",
   "metadata": {},
   "source": [
    "¿Qué tamaño tiene el dataset?"
   ]
  },
  {
   "cell_type": "code",
   "execution_count": 9,
   "metadata": {},
   "outputs": [
    {
     "name": "stdout",
     "output_type": "stream",
     "text": [
      "El dataframe contiene 5008 filas y 17 columnas.\n"
     ]
    }
   ],
   "source": [
    "print(f\"El dataframe contiene {df.shape[0]} filas y {df.shape[1]} columnas.\")"
   ]
  },
  {
   "cell_type": "markdown",
   "metadata": {},
   "source": [
    "¿Cuáles son las columnas del dataset?"
   ]
  },
  {
   "cell_type": "code",
   "execution_count": 13,
   "metadata": {},
   "outputs": [
    {
     "name": "stdout",
     "output_type": "stream",
     "text": [
      "El dataframe contiene las siguientes columnas: fecha, HORA declarada, Ruta, OperadOR, flight_no, route, ac_type, registration, cn_ln, all_aboard, PASAJEROS A BORDO, crew_aboard, cantidad de fallecidos, passenger_fatalities, crew_fatalities, ground, summary.\n"
     ]
    }
   ],
   "source": [
    "print(f\"El dataframe contiene las siguientes columnas: {', '.join(list(df.columns))}.\")"
   ]
  },
  {
   "cell_type": "markdown",
   "metadata": {},
   "source": [
    "Hay muchas columnas con sus nombres en inglés. Cambiemos eso:"
   ]
  },
  {
   "cell_type": "code",
   "execution_count": 16,
   "metadata": {},
   "outputs": [],
   "source": [
    "# Cambiar los nombres de las columnas al español\n",
    "df.columns = ['Fecha', 'Hora Declarada', 'Ruta', 'Operador', 'Número de Vuelo', 'Ruta de Vuelo', 'Tipo de Aeronave', 'Registro', 'CN LN', 'Total a Bordo', 'Pasajeros a Bordo', 'Tripulación a Bordo', 'Cantidad de Fallecidos', 'Fallecidos Pasajeros', 'Fallecidos Tripulación', 'En Tierra', 'Resumen']"
   ]
  },
  {
   "cell_type": "markdown",
   "metadata": {},
   "source": [
    "¿Cúantos valores faltantes contiene el dataset?"
   ]
  },
  {
   "cell_type": "code",
   "execution_count": 18,
   "metadata": {},
   "outputs": [
    {
     "data": {
      "text/plain": [
       "Fecha                     0\n",
       "Hora Declarada            0\n",
       "Ruta                      0\n",
       "Operador                  0\n",
       "Número de Vuelo           0\n",
       "Ruta de Vuelo             1\n",
       "Tipo de Aeronave          0\n",
       "Registro                  0\n",
       "CN LN                     0\n",
       "Total a Bordo             0\n",
       "Pasajeros a Bordo         0\n",
       "Tripulación a Bordo       0\n",
       "Cantidad de Fallecidos    0\n",
       "Fallecidos Pasajeros      0\n",
       "Fallecidos Tripulación    0\n",
       "En Tierra                 0\n",
       "Resumen                   0\n",
       "dtype: int64"
      ]
     },
     "execution_count": 18,
     "metadata": {},
     "output_type": "execute_result"
    }
   ],
   "source": [
    "df.isna().sum()"
   ]
  },
  {
   "cell_type": "markdown",
   "metadata": {},
   "source": [
    "¿El dataframe no tiene valores faltantes? Verifiquemos de otra forma, primero veamos el dataframe."
   ]
  },
  {
   "cell_type": "code",
   "execution_count": 19,
   "metadata": {},
   "outputs": [
    {
     "data": {
      "text/html": [
       "<div>\n",
       "<style scoped>\n",
       "    .dataframe tbody tr th:only-of-type {\n",
       "        vertical-align: middle;\n",
       "    }\n",
       "\n",
       "    .dataframe tbody tr th {\n",
       "        vertical-align: top;\n",
       "    }\n",
       "\n",
       "    .dataframe thead th {\n",
       "        text-align: right;\n",
       "    }\n",
       "</style>\n",
       "<table border=\"1\" class=\"dataframe\">\n",
       "  <thead>\n",
       "    <tr style=\"text-align: right;\">\n",
       "      <th></th>\n",
       "      <th>Fecha</th>\n",
       "      <th>Hora Declarada</th>\n",
       "      <th>Ruta</th>\n",
       "      <th>Operador</th>\n",
       "      <th>Número de Vuelo</th>\n",
       "      <th>Ruta de Vuelo</th>\n",
       "      <th>Tipo de Aeronave</th>\n",
       "      <th>Registro</th>\n",
       "      <th>CN LN</th>\n",
       "      <th>Total a Bordo</th>\n",
       "      <th>Pasajeros a Bordo</th>\n",
       "      <th>Tripulación a Bordo</th>\n",
       "      <th>Cantidad de Fallecidos</th>\n",
       "      <th>Fallecidos Pasajeros</th>\n",
       "      <th>Fallecidos Tripulación</th>\n",
       "      <th>En Tierra</th>\n",
       "      <th>Resumen</th>\n",
       "    </tr>\n",
       "    <tr>\n",
       "      <th>index</th>\n",
       "      <th></th>\n",
       "      <th></th>\n",
       "      <th></th>\n",
       "      <th></th>\n",
       "      <th></th>\n",
       "      <th></th>\n",
       "      <th></th>\n",
       "      <th></th>\n",
       "      <th></th>\n",
       "      <th></th>\n",
       "      <th></th>\n",
       "      <th></th>\n",
       "      <th></th>\n",
       "      <th></th>\n",
       "      <th></th>\n",
       "      <th></th>\n",
       "      <th></th>\n",
       "    </tr>\n",
       "  </thead>\n",
       "  <tbody>\n",
       "    <tr>\n",
       "      <th>0</th>\n",
       "      <td>September 17, 1908</td>\n",
       "      <td>1718</td>\n",
       "      <td>Fort Myer, Virginia</td>\n",
       "      <td>Military - U.S. Army</td>\n",
       "      <td>?</td>\n",
       "      <td>Demonstration</td>\n",
       "      <td>Wright Flyer III</td>\n",
       "      <td>?</td>\n",
       "      <td>1</td>\n",
       "      <td>2</td>\n",
       "      <td>1</td>\n",
       "      <td>1</td>\n",
       "      <td>1</td>\n",
       "      <td>1</td>\n",
       "      <td>0</td>\n",
       "      <td>0</td>\n",
       "      <td>During a demonstration flight, a U.S. Army fly...</td>\n",
       "    </tr>\n",
       "    <tr>\n",
       "      <th>1</th>\n",
       "      <td>September 07, 1909</td>\n",
       "      <td>?</td>\n",
       "      <td>Juvisy-sur-Orge, France</td>\n",
       "      <td>?</td>\n",
       "      <td>?</td>\n",
       "      <td>Air show</td>\n",
       "      <td>Wright Byplane</td>\n",
       "      <td>SC1</td>\n",
       "      <td>?</td>\n",
       "      <td>1</td>\n",
       "      <td>0</td>\n",
       "      <td>1</td>\n",
       "      <td>1</td>\n",
       "      <td>0</td>\n",
       "      <td>0</td>\n",
       "      <td>0</td>\n",
       "      <td>Eugene Lefebvre was the first pilot to ever be...</td>\n",
       "    </tr>\n",
       "  </tbody>\n",
       "</table>\n",
       "</div>"
      ],
      "text/plain": [
       "                    Fecha Hora Declarada                     Ruta  \\\n",
       "index                                                               \n",
       "0      September 17, 1908           1718      Fort Myer, Virginia   \n",
       "1      September 07, 1909              ?  Juvisy-sur-Orge, France   \n",
       "\n",
       "                   Operador Número de Vuelo  Ruta de Vuelo  Tipo de Aeronave  \\\n",
       "index                                                                          \n",
       "0      Military - U.S. Army               ?  Demonstration  Wright Flyer III   \n",
       "1                         ?               ?       Air show    Wright Byplane   \n",
       "\n",
       "      Registro CN LN Total a Bordo Pasajeros a Bordo Tripulación a Bordo  \\\n",
       "index                                                                      \n",
       "0            ?     1             2                 1                   1   \n",
       "1          SC1     ?             1                 0                   1   \n",
       "\n",
       "      Cantidad de Fallecidos Fallecidos Pasajeros Fallecidos Tripulación  \\\n",
       "index                                                                      \n",
       "0                          1                    1                      0   \n",
       "1                          1                    0                      0   \n",
       "\n",
       "      En Tierra                                            Resumen  \n",
       "index                                                               \n",
       "0             0  During a demonstration flight, a U.S. Army fly...  \n",
       "1             0  Eugene Lefebvre was the first pilot to ever be...  "
      ]
     },
     "execution_count": 19,
     "metadata": {},
     "output_type": "execute_result"
    }
   ],
   "source": [
    "df.head(2)"
   ]
  },
  {
   "cell_type": "markdown",
   "metadata": {},
   "source": [
    "Como podemos observar, en lugar de NaN, el dataframe tiene \"?\" cuando no contiene la información de esa columna y el registro. Con esta nueva información, verifiquemos cuantos \"?\" tiene cada columna:"
   ]
  },
  {
   "cell_type": "code",
   "execution_count": 20,
   "metadata": {},
   "outputs": [
    {
     "data": {
      "text/plain": [
       "Fecha                        0\n",
       "Hora Declarada            1504\n",
       "Ruta                         5\n",
       "Operador                    10\n",
       "Número de Vuelo           3682\n",
       "Ruta de Vuelo              762\n",
       "Tipo de Aeronave            13\n",
       "Registro                   272\n",
       "CN LN                      667\n",
       "Total a Bordo               17\n",
       "Pasajeros a Bordo          221\n",
       "Tripulación a Bordo        219\n",
       "Cantidad de Fallecidos       8\n",
       "Fallecidos Pasajeros       235\n",
       "Fallecidos Tripulación     235\n",
       "En Tierra                   44\n",
       "Resumen                     59\n",
       "dtype: int64"
      ]
     },
     "execution_count": 20,
     "metadata": {},
     "output_type": "execute_result"
    }
   ],
   "source": [
    "df.isin([\"?\"]).sum()"
   ]
  },
  {
   "cell_type": "markdown",
   "metadata": {},
   "source": [
    "Ahora encontramos números mas coherentes, las columnas tienen valores faltantes pero en forma de una cadena <h style=\"color: #FFBB66\">\"?\"</h>."
   ]
  },
  {
   "cell_type": "markdown",
   "metadata": {},
   "source": [
    "Existen algunas columnas, que parece que no son explicativas con sus nombres, investiguemos que significa:"
   ]
  },
  {
   "cell_type": "markdown",
   "metadata": {},
   "source": [
    "<ul>\n",
    "<li><strong>CN LN</strong>: Números de construcción y línea de la aeronave, que son identificadores adicionales.</li>\n",
    "<li><strong>En Tierra</strong>: Representa el número de personas fallecidas en tierra como resultado del evento.</li>\n",
    "</ul>"
   ]
  },
  {
   "cell_type": "markdown",
   "metadata": {},
   "source": [
    "Como nuestro proyecto será completamente en español, debemos actulizar el archivo <em>csv</em> en nuestro repositorio."
   ]
  },
  {
   "cell_type": "code",
   "execution_count": 21,
   "metadata": {},
   "outputs": [],
   "source": [
    "df.to_csv(\"AccidentesAviones.csv\", index= False)"
   ]
  },
  {
   "cell_type": "markdown",
   "metadata": {},
   "source": [
    "En el siguiente notebook, se procederá a hacer la segmentación de la información para montarla en una base de datos relacional."
   ]
  }
 ],
 "metadata": {
  "kernelspec": {
   "display_name": "venv",
   "language": "python",
   "name": "python3"
  },
  "language_info": {
   "codemirror_mode": {
    "name": "ipython",
    "version": 3
   },
   "file_extension": ".py",
   "mimetype": "text/x-python",
   "name": "python",
   "nbconvert_exporter": "python",
   "pygments_lexer": "ipython3",
   "version": "3.11.4"
  },
  "orig_nbformat": 4
 },
 "nbformat": 4,
 "nbformat_minor": 2
}
